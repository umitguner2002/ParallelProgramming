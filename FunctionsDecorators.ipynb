{
 "cells": [
  {
   "cell_type": "markdown",
   "source": [
    "# Functions and Decorators in Python"
   ],
   "metadata": {
    "collapsed": false
   }
  },
  {
   "cell_type": "code",
   "execution_count": 1,
   "outputs": [],
   "source": [
    "def my_func():\n",
    "    print(\"You called my_func\")"
   ],
   "metadata": {
    "collapsed": false
   }
  },
  {
   "cell_type": "code",
   "execution_count": 2,
   "outputs": [
    {
     "name": "stdout",
     "output_type": "stream",
     "text": [
      "You called my_func\n"
     ]
    }
   ],
   "source": [
    "my_func()"
   ],
   "metadata": {
    "collapsed": false
   }
  },
  {
   "cell_type": "code",
   "execution_count": 3,
   "outputs": [],
   "source": [
    "# functions with arguments\n",
    "def my_func_w_args(x, y, z):\n",
    "    print(f\"x = {x}, y = {y}, z = {z}\")"
   ],
   "metadata": {
    "collapsed": false
   }
  },
  {
   "cell_type": "code",
   "execution_count": 4,
   "outputs": [
    {
     "name": "stdout",
     "output_type": "stream",
     "text": [
      "x = 3, y = 5, z = 7\n"
     ]
    }
   ],
   "source": [
    "my_func_w_args(3, 5, 7)"
   ],
   "metadata": {
    "collapsed": false
   }
  },
  {
   "cell_type": "code",
   "execution_count": 5,
   "outputs": [
    {
     "ename": "TypeError",
     "evalue": "my_func_w_args() missing 2 required positional arguments: 'x' and 'z'",
     "output_type": "error",
     "traceback": [
      "\u001B[0;31m---------------------------------------------------------------------------\u001B[0m",
      "\u001B[0;31mTypeError\u001B[0m                                 Traceback (most recent call last)",
      "Input \u001B[0;32mIn [5]\u001B[0m, in \u001B[0;36m<cell line: 1>\u001B[0;34m()\u001B[0m\n\u001B[0;32m----> 1\u001B[0m \u001B[43mmy_func_w_args\u001B[49m\u001B[43m(\u001B[49m\u001B[43my\u001B[49m\u001B[38;5;241;43m=\u001B[39;49m\u001B[38;5;241;43m7\u001B[39;49m\u001B[43m)\u001B[49m\n",
      "\u001B[0;31mTypeError\u001B[0m: my_func_w_args() missing 2 required positional arguments: 'x' and 'z'"
     ]
    }
   ],
   "source": [
    "my_func_w_args(y=7)"
   ],
   "metadata": {
    "collapsed": false
   }
  },
  {
   "cell_type": "code",
   "execution_count": 6,
   "outputs": [],
   "source": [
    "# positional arguments and default values\n",
    "def my_func_w_default_values(x=None, y=None, z=None):\n",
    "    x_str = f\"x = {x} \" if x else f\"\"\n",
    "    y_str = f\"y = {y} \" if y else f\"\"\n",
    "    z_str = f\"z = {z} \" if z else f\"\"\n",
    "    print(x_str + y_str + z_str)"
   ],
   "metadata": {
    "collapsed": false
   }
  },
  {
   "cell_type": "code",
   "execution_count": 7,
   "outputs": [
    {
     "name": "stdout",
     "output_type": "stream",
     "text": [
      "y = 7 \n"
     ]
    }
   ],
   "source": [
    "my_func_w_default_values(y=7)"
   ],
   "metadata": {
    "collapsed": false
   }
  },
  {
   "cell_type": "code",
   "execution_count": 8,
   "outputs": [],
   "source": [
    "# functions are objects, so they have attributes\n",
    "def my_func_w_attr():\n",
    "    my_func_w_attr.name = \"Bora\"\n",
    "    my_func_w_attr.age = 37\n",
    "    print(my_func_w_attr.name, my_func_w_attr.age)"
   ],
   "metadata": {
    "collapsed": false
   }
  },
  {
   "cell_type": "code",
   "execution_count": 9,
   "outputs": [
    {
     "name": "stdout",
     "output_type": "stream",
     "text": [
      "Bora 37\n"
     ]
    }
   ],
   "source": [
    "my_func_w_attr()"
   ],
   "metadata": {
    "collapsed": false
   }
  },
  {
   "cell_type": "code",
   "execution_count": 10,
   "outputs": [
    {
     "name": "stdout",
     "output_type": "stream",
     "text": [
      "Bora\n"
     ]
    }
   ],
   "source": [
    "print(getattr(my_func_w_attr, \"name\"))"
   ],
   "metadata": {
    "collapsed": false
   }
  },
  {
   "cell_type": "code",
   "execution_count": 11,
   "outputs": [
    {
     "name": "stdout",
     "output_type": "stream",
     "text": [
      "True\n"
     ]
    }
   ],
   "source": [
    "print(hasattr(my_func_w_attr, \"age\"))"
   ],
   "metadata": {
    "collapsed": false
   }
  },
  {
   "cell_type": "code",
   "execution_count": 12,
   "outputs": [
    {
     "name": "stdout",
     "output_type": "stream",
     "text": [
      "Bora 37\n",
      "Bora 37\n"
     ]
    }
   ],
   "source": [
    "my_func_w_attr()\n",
    "setattr(my_func_w_attr, \"name\", \"Ahmet\")\n",
    "setattr(my_func_w_attr, \"age\", 45)\n",
    "my_func_w_attr()"
   ],
   "metadata": {
    "collapsed": false
   }
  },
  {
   "cell_type": "code",
   "execution_count": 13,
   "outputs": [],
   "source": [
    "def my_static_func():\n",
    "    if not hasattr(my_static_func, \"name\"):\n",
    "        my_static_func.name = \"Bora\"\n",
    "    print(my_static_func.name)"
   ],
   "metadata": {
    "collapsed": false
   }
  },
  {
   "cell_type": "code",
   "execution_count": 14,
   "outputs": [
    {
     "name": "stdout",
     "output_type": "stream",
     "text": [
      "Bora\n",
      "Ahmet\n"
     ]
    }
   ],
   "source": [
    "my_static_func()\n",
    "my_static_func.name = \"Ahmet\"\n",
    "my_static_func()"
   ],
   "metadata": {
    "collapsed": false
   }
  },
  {
   "cell_type": "code",
   "execution_count": 15,
   "outputs": [],
   "source": [
    "# functions can also have inner functions\n",
    "def my_parent_func():\n",
    "    def my_inner_func():\n",
    "        print(\"I am inner\")\n",
    "    print(\"I am parent\")\n",
    "    my_inner_func()"
   ],
   "metadata": {
    "collapsed": false
   }
  },
  {
   "cell_type": "code",
   "execution_count": 16,
   "outputs": [
    {
     "name": "stdout",
     "output_type": "stream",
     "text": [
      "I am parent\n",
      "I am inner\n"
     ]
    }
   ],
   "source": [
    "my_parent_func()"
   ],
   "metadata": {
    "collapsed": false
   }
  },
  {
   "cell_type": "code",
   "execution_count": 17,
   "outputs": [
    {
     "ename": "AttributeError",
     "evalue": "'function' object has no attribute 'my_inner_func'",
     "output_type": "error",
     "traceback": [
      "\u001B[0;31m---------------------------------------------------------------------------\u001B[0m",
      "\u001B[0;31mAttributeError\u001B[0m                            Traceback (most recent call last)",
      "Input \u001B[0;32mIn [17]\u001B[0m, in \u001B[0;36m<cell line: 2>\u001B[0;34m()\u001B[0m\n\u001B[1;32m      1\u001B[0m \u001B[38;5;66;03m# inner functions are useful for encapsulation\u001B[39;00m\n\u001B[0;32m----> 2\u001B[0m \u001B[43mmy_parent_func\u001B[49m\u001B[38;5;241;43m.\u001B[39;49m\u001B[43mmy_inner_func\u001B[49m()\n",
      "\u001B[0;31mAttributeError\u001B[0m: 'function' object has no attribute 'my_inner_func'"
     ]
    }
   ],
   "source": [
    "# inner functions are useful for encapsulation\n",
    "my_parent_func.my_inner_func()"
   ],
   "metadata": {
    "collapsed": false
   }
  },
  {
   "cell_type": "markdown",
   "source": [
    "## Decorators\n",
    "\n",
    "* Decorators take a function as argument and returns a function.\n",
    "* We use them to extend the behavior of the wrapped function, without modifying it.\n",
    "* Decorators are very useful for dealing with code legacy."
   ],
   "metadata": {
    "collapsed": false
   }
  },
  {
   "cell_type": "code",
   "execution_count": 18,
   "outputs": [],
   "source": [
    "# classic way\n",
    "def my_decorator(func):\n",
    "    def _my_decorator():\n",
    "        print(\"I am decorator\")\n",
    "        func()\n",
    "    return _my_decorator\n",
    "\n",
    "def my_decorated_func():\n",
    "    print(\"I am decorated\")"
   ],
   "metadata": {
    "collapsed": false
   }
  },
  {
   "cell_type": "code",
   "execution_count": 19,
   "outputs": [],
   "source": [
    "my_decorated_func = my_decorator(my_decorated_func)"
   ],
   "metadata": {
    "collapsed": false
   }
  },
  {
   "cell_type": "code",
   "execution_count": 20,
   "outputs": [
    {
     "name": "stdout",
     "output_type": "stream",
     "text": [
      "I am decorator\n",
      "I am decorated\n"
     ]
    }
   ],
   "source": [
    "my_decorated_func()"
   ],
   "metadata": {
    "collapsed": false
   }
  },
  {
   "cell_type": "code",
   "execution_count": 21,
   "outputs": [],
   "source": [
    "# pythonic way\n",
    "def d1(func):\n",
    "    def _d1():\n",
    "        print(\"Before function\")\n",
    "        func()\n",
    "        print(\"After function\")\n",
    "    return _d1\n",
    "\n",
    "@d1\n",
    "def f1():\n",
    "    print(\"I am function\")"
   ],
   "metadata": {
    "collapsed": false
   }
  },
  {
   "cell_type": "code",
   "execution_count": 22,
   "outputs": [
    {
     "name": "stdout",
     "output_type": "stream",
     "text": [
      "Before function\n",
      "I am function\n",
      "After function\n"
     ]
    }
   ],
   "source": [
    "f1()"
   ],
   "metadata": {
    "collapsed": false
   }
  },
  {
   "cell_type": "markdown",
   "source": [
    "### Decorators with Arguments\n",
    "\n",
    "* args: the tuple of positional arguments\n",
    "* kwargs: the dictionary of keyword arguments"
   ],
   "metadata": {
    "collapsed": false
   }
  },
  {
   "cell_type": "code",
   "execution_count": 23,
   "outputs": [],
   "source": [
    "def decorator(func):\n",
    "    def _decorator(*args, **kwargs):\n",
    "        print(\"I am decorator\")\n",
    "        print(args)\n",
    "        print(kwargs)\n",
    "        func(*args, **kwargs)\n",
    "    return _decorator\n",
    "\n",
    "@decorator\n",
    "def decorated_func_w_args(x):\n",
    "    print(f\"x = {x}\")\n",
    "\n",
    "@decorator\n",
    "def decorated_triple_print(x=None, y=None, z=None):\n",
    "    x_str = f\"x = {x} \" if x else f\"\"\n",
    "    y_str = f\"y = {y} \" if y else f\"\"\n",
    "    z_str = f\"z = {z} \" if z else f\"\"\n",
    "    print(x_str + y_str + z_str)"
   ],
   "metadata": {
    "collapsed": false
   }
  },
  {
   "cell_type": "code",
   "execution_count": 24,
   "outputs": [
    {
     "name": "stdout",
     "output_type": "stream",
     "text": [
      "I am decorator\n",
      "('Parallel Programming',)\n",
      "{}\n",
      "x = Parallel Programming\n"
     ]
    }
   ],
   "source": [
    "decorated_func_w_args(\"Parallel Programming\")"
   ],
   "metadata": {
    "collapsed": false
   }
  },
  {
   "cell_type": "code",
   "execution_count": 25,
   "outputs": [
    {
     "name": "stdout",
     "output_type": "stream",
     "text": [
      "I am decorator\n",
      "(3, 5, 7)\n",
      "{}\n",
      "x = 3 y = 5 z = 7 \n"
     ]
    }
   ],
   "source": [
    "decorated_triple_print(3, 5, 7)"
   ],
   "metadata": {
    "collapsed": false
   }
  },
  {
   "cell_type": "code",
   "execution_count": 26,
   "outputs": [
    {
     "name": "stdout",
     "output_type": "stream",
     "text": [
      "I am decorator\n",
      "()\n",
      "{'z': 4}\n",
      "z = 4 \n"
     ]
    }
   ],
   "source": [
    "decorated_triple_print(z=4)"
   ],
   "metadata": {
    "collapsed": false
   }
  },
  {
   "cell_type": "markdown",
   "source": [
    "### Decorator Chain"
   ],
   "metadata": {
    "collapsed": false
   }
  },
  {
   "cell_type": "code",
   "execution_count": 27,
   "outputs": [],
   "source": [
    "def d1(func):\n",
    "    def _d1(*args, **kwargs):\n",
    "        print(f\"d1 here for {func.__name__}\")\n",
    "        func(*args, **kwargs)\n",
    "    return _d1\n",
    "\n",
    "def d2(func):\n",
    "    def _d2(*args, **kwargs):\n",
    "        print(f\"d2 here for {func.__name__}\")\n",
    "        func(*args, **kwargs)\n",
    "    return _d2\n",
    "\n",
    "@d1\n",
    "@d2\n",
    "def fd(x):\n",
    "    print(f\"f says {x}\")"
   ],
   "metadata": {
    "collapsed": false
   }
  },
  {
   "cell_type": "code",
   "execution_count": 28,
   "outputs": [
    {
     "name": "stdout",
     "output_type": "stream",
     "text": [
      "d1 here for _d2\n",
      "d2 here for fd\n",
      "f says Parallel Programming\n"
     ]
    }
   ],
   "source": [
    "fd(\"Parallel Programming\")"
   ],
   "metadata": {
    "collapsed": false
   }
  },
  {
   "cell_type": "code",
   "execution_count": null,
   "outputs": [],
   "source": [],
   "metadata": {
    "collapsed": false
   }
  }
 ],
 "metadata": {
  "kernelspec": {
   "display_name": "Python 3",
   "language": "python",
   "name": "python3"
  },
  "language_info": {
   "codemirror_mode": {
    "name": "ipython",
    "version": 2
   },
   "file_extension": ".py",
   "mimetype": "text/x-python",
   "name": "python",
   "nbconvert_exporter": "python",
   "pygments_lexer": "ipython2",
   "version": "2.7.6"
  }
 },
 "nbformat": 4,
 "nbformat_minor": 0
}
